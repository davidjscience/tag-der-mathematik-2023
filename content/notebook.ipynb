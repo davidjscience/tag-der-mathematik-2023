{
 "cells": [
  {
   "cell_type": "code",
   "execution_count": 67,
   "metadata": {},
   "outputs": [],
   "source": [
    "%matplotlib inline\n",
    "from ipywidgets import interactive\n",
    "from sympy import symbols,cos,pi,factorial\n",
    "from sympy.plotting import plot\n",
    "from sympy.plotting.plot import MatplotlibBackend, Plot\n",
    "import matplotlib.pyplot as plt\n",
    "def get_sympy_subplots(plot:Plot):\n",
    "    backend = MatplotlibBackend(plot)\n",
    "\n",
    "    backend.process_series()\n",
    "    #backend.fig.tight_layout()\n",
    "    backend.plt.rcParams.update({\n",
    "    #\"text.usetex\": False,\n",
    "    \"font.sans-serif\": \"Helvetica\"\n",
    "    })\n",
    "    return backend.plt\n",
    "\n",
    "\n",
    "x = symbols('x')\n",
    "\n",
    "def taylor(function,x0,n):\n",
    "    i = 0\n",
    "    p = 0\n",
    "    while i <= n:\n",
    "        p = p + (function.diff(x,i).subs(x,x0))/(factorial(i))*(x-x0)**i\n",
    "        i += 1\n",
    "    return p\n"
   ]
  },
  {
   "cell_type": "code",
   "execution_count": 81,
   "metadata": {},
   "outputs": [
    {
     "data": {
      "application/vnd.jupyter.widget-view+json": {
       "model_id": "814ddeb2cfab4fd3bd4815d0f06296da",
       "version_major": 2,
       "version_minor": 0
      },
      "text/plain": [
       "interactive(children=(FloatSlider(value=-1.0471969693899155, description='x_0', max=1.5707959979772568, min=-1…"
      ]
     },
     "metadata": {},
     "output_type": "display_data"
    }
   ],
   "source": [
    "def p(x_0,a,m,c):\n",
    "    p = plot(a*(x-(x_0))**2 + m*(x-x_0) + c, xlim=(-2*pi,2*pi),ylim=(-1,1), show=False)\n",
    "    plt = get_sympy_subplots(p)\n",
    "    plt.plot([x_0], [c], \"o\")\n",
    "    plt.title('{a:.2f}(x-{x_0:.2f})^2 + {m:.2f}x + {c:.2f}\\n'.format(a=a,x_0=x_0,m=m,c=c),\n",
    "              fontdict={'fontsize': 15})\n",
    "    plt.show()\n",
    "    \n",
    "interactive_plot = interactive(p,x_0=(round(-pi/2,6),round(pi/2,6),round(pi/6,6)),a=(-2.0,2.0,.25),m=(-1,1,0.25),c=(-1,1,0.25))\n",
    "output = interactive_plot.children[-1]\n",
    "output.layout.height = '500px'\n",
    "interactive_plot\n"
   ]
  },
  {
   "cell_type": "code",
   "execution_count": 82,
   "metadata": {},
   "outputs": [
    {
     "data": {
      "application/vnd.jupyter.widget-view+json": {
       "model_id": "164486a1e4bb4e74a7da8d8d6b32f7f6",
       "version_major": 2,
       "version_minor": 0
      },
      "text/plain": [
       "interactive(children=(FloatSlider(value=-1.0471969693899155, description='x_0', max=1.5707959979772568, min=-1…"
      ]
     },
     "metadata": {},
     "output_type": "display_data"
    }
   ],
   "source": [
    "def l(x_0,a,m,c):\n",
    "    p = plot(cos(x), a*(x-(x_0))**2 + m*(x-x_0) + c, xlim=(-2*pi,2*pi),ylim=(-1,1), show=False)\n",
    "    plt = get_sympy_subplots(p)\n",
    "    plt.plot([x_0], [c], \"o\")\n",
    "    plt.title('{a:.2f}(x-{x_0:.2f})^2 + {m:.2f}x + {c:.2f}\\n'.format(a=a,x_0=x_0,m=m,c=c),\n",
    "              fontdict={'fontsize': 15})\n",
    "    plt.show()\n",
    "    \n",
    "interactive_plot = interactive(l,x_0=(round(-pi/2,6),round(pi/2,6),round(pi/6,6)),a=(-2.0,2.0,.25),m=(-1,1,0.25),c=(-1,1,0.25))\n",
    "output = interactive_plot.children[-1]\n",
    "output.layout.height = '500px'\n",
    "interactive_plot\n"
   ]
  },
  {
   "cell_type": "code",
   "execution_count": 84,
   "metadata": {},
   "outputs": [
    {
     "data": {
      "application/vnd.jupyter.widget-view+json": {
       "model_id": "567b47233be546599d4c98ba7b62301a",
       "version_major": 2,
       "version_minor": 0
      },
      "text/plain": [
       "interactive(children=(FloatSlider(value=1.0, description='x_0', max=3.0), IntSlider(value=13, description='n',…"
      ]
     },
     "metadata": {},
     "output_type": "display_data"
    }
   ],
   "source": [
    "def l(x_0,n):\n",
    "    p = plot(cos(x), taylor(cos(x), x_0, n), xlim=(-3*pi,3*pi),ylim=(-1,1), show=False)\n",
    "    plt = get_sympy_subplots(p)\n",
    "    plt.plot([x_0], [cos(x_0)], \"o\")\n",
    "    plt.show()\n",
    "    \n",
    "interactive_plot = interactive(l,x_0=(0,3,0.1), n=(1,25,1) )\n",
    "output = interactive_plot.children[-1]\n",
    "output.layout.height = '500px'\n",
    "interactive_plot\n",
    "\n"
   ]
  },
  {
   "cell_type": "code",
   "execution_count": 85,
   "metadata": {},
   "outputs": [
    {
     "data": {
      "application/vnd.jupyter.widget-view+json": {
       "model_id": "92117d8829fb4da3b728b8caff0ffa65",
       "version_major": 2,
       "version_minor": 0
      },
      "text/plain": [
       "interactive(children=(IntSlider(value=13, description='n', max=26, min=1), Output(layout=Layout(height='500px'…"
      ]
     },
     "metadata": {},
     "output_type": "display_data"
    }
   ],
   "source": [
    "def l(n):\n",
    "    p = plot(ln(x), taylor(ln(x), 1, n), xlim=(-3,3),ylim=(-5,5), show=False)\n",
    "    plt = get_sympy_subplots(p)\n",
    "    plt.plot([1], [ln(1)], \"o\")\n",
    "    plt.show()\n",
    "    \n",
    "interactive_plot = interactive(l, n=(1,26,1) )\n",
    "output = interactive_plot.children[-1]\n",
    "output.layout.height = '500px'\n",
    "interactive_plot\n"
   ]
  }
 ],
 "metadata": {
  "kernelspec": {
   "display_name": "Python 3 (ipykernel)",
   "language": "python",
   "name": "python3"
  },
  "language_info": {
   "codemirror_mode": {
    "name": "ipython",
    "version": 3
   },
   "file_extension": ".py",
   "mimetype": "text/x-python",
   "name": "python",
   "nbconvert_exporter": "python",
   "pygments_lexer": "ipython3",
   "version": "3.9.7"
  }
 },
 "nbformat": 4,
 "nbformat_minor": 2
}
